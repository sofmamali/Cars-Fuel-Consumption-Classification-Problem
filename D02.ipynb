{
  "nbformat": 4,
  "nbformat_minor": 0,
  "metadata": {
    "colab": {
      "provenance": [],
      "include_colab_link": true
    },
    "kernelspec": {
      "name": "python3",
      "display_name": "Python 3"
    },
    "language_info": {
      "name": "python"
    }
  },
  "cells": [
    {
      "cell_type": "markdown",
      "metadata": {
        "id": "view-in-github",
        "colab_type": "text"
      },
      "source": [
        "<a href=\"https://colab.research.google.com/github/kikifana/Team_1_WeLead/blob/main/D02.ipynb\" target=\"_parent\"><img src=\"https://colab.research.google.com/assets/colab-badge.svg\" alt=\"Open In Colab\"/></a>"
      ]
    },
    {
      "cell_type": "code",
      "source": [
        "import pandas as pd\n",
        "import numpy as np\n",
        "from sklearn.model_selection import train_test_split\n",
        "from sklearn.preprocessing import StandardScaler, MinMaxScaler\n",
        "from sklearn.cluster import KMeans\n",
        "from sklearn.metrics import accuracy_score, confusion_matrix, precision_score, recall_score, f1_score\n",
        "import seaborn as sns\n",
        "import matplotlib.pyplot as plt\n",
        "from sklearn.ensemble import RandomForestClassifier\n",
        "from sklearn.svm import SVC\n",
        "from sklearn.neural_network import MLPClassifier\n",
        "from sklearn.linear_model import LogisticRegression\n",
        "from sklearn.tree import DecisionTreeClassifier\n",
        "from sklearn.neighbors import KNeighborsClassifier\n",
        "from imblearn.over_sampling import SMOTE"
      ],
      "metadata": {
        "id": "eKpqxBzf4iea"
      },
      "execution_count": null,
      "outputs": []
    },
    {
      "cell_type": "code",
      "source": [
        "import os\n",
        "\n",
        "# Define a directory to save plots\n",
        "plot_dir = \"model_plots\"\n",
        "os.makedirs(plot_dir, exist_ok=True)\n"
      ],
      "metadata": {
        "id": "1WT8ZaZo9aCg"
      },
      "execution_count": null,
      "outputs": []
    },
    {
      "cell_type": "code",
      "source": [
        "from google.colab import drive\n",
        "drive.mount('/content/drive')"
      ],
      "metadata": {
        "colab": {
          "base_uri": "https://localhost:8080/"
        },
        "id": "rNpfoBo-xb6S",
        "outputId": "9da13bbb-1da9-42a4-984d-a920adb04f83"
      },
      "execution_count": null,
      "outputs": [
        {
          "output_type": "stream",
          "name": "stdout",
          "text": [
            "Mounted at /content/drive\n"
          ]
        }
      ]
    },
    {
      "cell_type": "code",
      "source": [
        "xlsx_path = '/content/drive/MyDrive/mpg.data.xlsx'\n",
        "csv_path = '/content/drive/MyDrive/mpg_data.csv'\n",
        "\n",
        "df = pd.read_excel(xlsx_path, engine='openpyxl')\n",
        "\n",
        "df.to_csv(csv_path, index=False)\n",
        "\n",
        "print(f\"CSV file saved at: {csv_path}\")"
      ],
      "metadata": {
        "colab": {
          "base_uri": "https://localhost:8080/"
        },
        "id": "HJpW4JI2xgcj",
        "outputId": "7aa364eb-3201-472c-8976-77719f57143a"
      },
      "execution_count": null,
      "outputs": [
        {
          "output_type": "stream",
          "name": "stdout",
          "text": [
            "CSV file saved at: /content/drive/MyDrive/mpg_data.csv\n"
          ]
        }
      ]
    },
    {
      "cell_type": "markdown",
      "source": [
        "Drop empty columns: Unnamed: 9 - Unnamed: 12\n",
        "Drop NaNs from mpg and horsepower columns. There are very few NaNs so dropping them will not be a problem."
      ],
      "metadata": {
        "id": "yYjJgqHi9eou"
      }
    },
    {
      "cell_type": "code",
      "source": [
        "df = df.drop(columns=['Unnamed: 9', 'Unnamed: 10', 'Unnamed: 11', 'Unnamed: 12'], errors='ignore')\n",
        "df = df.dropna(subset=['mpg', 'horsepower'])"
      ],
      "metadata": {
        "id": "7RyAHfERxnaV"
      },
      "execution_count": null,
      "outputs": []
    },
    {
      "cell_type": "markdown",
      "source": [
        "Clean the car name column and extract brand names, then get the known brands so we can check for misspelled words. We then extract the brand name and also keep two-word brands such as Mercedes-Benz. We define the brand corrections for misspellings and abbreviations"
      ],
      "metadata": {
        "id": "p30e-VER912X"
      }
    },
    {
      "cell_type": "code",
      "source": [
        "df['car name'] = df['car name'].str.replace(r'\\s+', ' ', regex=True).str.strip()\n",
        "\n",
        "known_brands = [\"mercedes benz\", \"chevrolet\", \"ford\", \"buick\", \"plymouth\",\n",
        "    \"volkswagen\", \"peugeot\", \"audi\", \"saab\", \"bmw\", \"toyota\", \"mazda\", \"pontiac\",\n",
        "    \"mercury\", \"nissan\", \"honda\", \"subaru\", \"chrysler\", \"dodge\", \"fiat\", \"opel\", \"renault\"]\n",
        "\n",
        "def extract_brand(name):\n",
        "    words = name.split()\n",
        "    two_word_brand = \" \".join(words[:2]).lower()\n",
        "    if two_word_brand in known_brands:\n",
        "        return two_word_brand\n",
        "    return words[0].lower()\n",
        "\n",
        "df['car_name_merge'] = df['car name'].apply(extract_brand)\n",
        "\n",
        "# Define brand corrections\n",
        "brand_corrections = {\n",
        "    \"mercedes\": \"mercedes-benz\",\n",
        "    \"vw\": \"volkswagen\",\n",
        "    \"chevy\": \"chevrolet\",\n",
        "    \"toyouta\": \"toyota\",\n",
        "    \"chevroelt\": \"chevrolet\",\n",
        "    \"maxda\": \"mazda\",\n",
        "    \"vokswagen\": \"volkswagen\",\n",
        "    \"capri\": \"mercury\",\n",
        "    \"datsun\": \"nissan\"\n",
        "}\n",
        "\n",
        "df[\"car_name_merge\"] = df[\"car_name_merge\"].replace(brand_corrections)\n",
        "\n",
        "# Drop \"car name\" column since it's not needed anymore\n",
        "df = df.drop(columns=[\"car name\"])\n",
        "\n",
        "\n"
      ],
      "metadata": {
        "id": "6ascdYuZxqcp"
      },
      "execution_count": null,
      "outputs": []
    },
    {
      "cell_type": "code",
      "source": [
        "df = df[df[\"car_name_merge\"] != \"hi\"]\n",
        "print(\"hi 1200d' entry has been successfully removed.\")"
      ],
      "metadata": {
        "colab": {
          "base_uri": "https://localhost:8080/"
        },
        "id": "bHUYCpwQ_XS7",
        "outputId": "c4d765d1-56b2-4b58-bbf9-7e1f540c9bcd"
      },
      "execution_count": null,
      "outputs": [
        {
          "output_type": "stream",
          "name": "stdout",
          "text": [
            "hi 1200d' entry has been successfully removed.\n"
          ]
        }
      ]
    },
    {
      "cell_type": "code",
      "source": [
        "print(df[\"car_name_merge\"].value_counts())"
      ],
      "metadata": {
        "colab": {
          "base_uri": "https://localhost:8080/"
        },
        "id": "8jhobi7KzJuW",
        "outputId": "e9c64f74-c56b-479f-c673-f5d6eb501095"
      },
      "execution_count": null,
      "outputs": [
        {
          "output_type": "stream",
          "name": "stdout",
          "text": [
            "car_name_merge\n",
            "ford             48\n",
            "chevrolet        47\n",
            "plymouth         31\n",
            "dodge            28\n",
            "amc              27\n",
            "toyota           26\n",
            "nissan           24\n",
            "volkswagen       22\n",
            "buick            17\n",
            "pontiac          16\n",
            "honda            13\n",
            "mazda            12\n",
            "mercury          12\n",
            "oldsmobile       10\n",
            "fiat              8\n",
            "peugeot           8\n",
            "audi              7\n",
            "chrysler          6\n",
            "volvo             6\n",
            "saab              4\n",
            "opel              4\n",
            "subaru            4\n",
            "renault           3\n",
            "bmw               2\n",
            "mercedes-benz     2\n",
            "cadillac          2\n",
            "mercedes benz     1\n",
            "triumph           1\n",
            "Name: count, dtype: int64\n"
          ]
        }
      ]
    },
    {
      "cell_type": "markdown",
      "source": [
        "We continue our analysis with two different ways.\n",
        "1. Calculating manually MPG clusters based on observations of the mpg's histogram.\n",
        "2. KMeans Clustering. We looped from 2 to 5 and found the elbow in k = 3"
      ],
      "metadata": {
        "id": "GowSbZXKAtpq"
      }
    },
    {
      "cell_type": "code",
      "source": [
        "# Manual MPG Clustering --- based on the histogram of mpg\n",
        "bins = [0, 20, 30, max(df['mpg'].max(), 50)]\n",
        "labels = ['Low', 'Medium', 'High']\n",
        "df['mpg_cluster'] = pd.cut(df['mpg'], bins=bins, labels=labels)\n",
        "\n",
        "# KMeans Clustering - Find best k using Elbow Method\n",
        "inertia = []\n",
        "K_range = range(2, 6)  # Testing k from 2 to 5\n",
        "\n",
        "for k in K_range:\n",
        "    kmeans = KMeans(n_clusters=k, random_state=42, n_init=10)\n",
        "    kmeans.fit(df[['mpg']])\n",
        "    inertia.append(kmeans.inertia_)\n",
        "\n",
        "# Plot Elbow Curve\n",
        "plt.figure(figsize=(6, 4))\n",
        "plt.plot(K_range, inertia, marker='o', linestyle='dashed')\n",
        "plt.xlabel('Number of Clusters (k)')\n",
        "plt.ylabel('Inertia')\n",
        "plt.title('Elbow Method for Optimal k (MPG Clusters)')\n",
        "plt.show()\n",
        "\n",
        "# Select optimal k manually\n",
        "optimal_k = 3\n",
        "df['mpg_kmeans'] = KMeans(n_clusters=optimal_k, random_state=42, n_init=10).fit_predict(df[['mpg']])\n",
        "df = df.drop(columns=['mpg'])  # Drop actual MPG after clustering\n"
      ],
      "metadata": {
        "colab": {
          "base_uri": "https://localhost:8080/",
          "height": 410
        },
        "id": "iOJNtwGM1xfJ",
        "outputId": "6b2ad134-8a03-48e6-d2ef-b2aba91d7905"
      },
      "execution_count": null,
      "outputs": [
        {
          "output_type": "display_data",
          "data": {
            "text/plain": [
              "<Figure size 600x400 with 1 Axes>"
            ],
            "image/png": "[encoded data removed]"
          },
          "metadata": {}
        }
      ]
    },
    {
      "cell_type": "markdown",
      "source": [
        "The function preprocess_features:\n",
        "1. Choose between standard scaling or min max scaling\n",
        "2. Apply One Hot Encoding to car_name_merge, cylinders, origin columns\n",
        "3. Apply the chosen scaler in the rest features that are not one hot encoded.\n"
      ],
      "metadata": {
        "id": "tDrgUn3CCuUZ"
      }
    },
    {
      "cell_type": "code",
      "source": [
        "def preprocess_features(df, scale_method=\"standard\"):\n",
        "\n",
        "    categorical_columns = [\"car_name_merge\", \"cylinders\", \"origin\"]\n",
        "    existing_categoricals = [col for col in categorical_columns if col in df.columns]\n",
        "\n",
        "    if existing_categoricals:\n",
        "        df = pd.get_dummies(df, columns=existing_categoricals, drop_first=True)\n",
        "\n",
        "    num_features = ['displayments', 'horsepower', 'weight', 'acceleration', 'model year']\n",
        "    existing_num_features = [col for col in num_features if col in df.columns]\n",
        "\n",
        "    # Choose Standard or MinMax Scaler\n",
        "    if scale_method == \"standard\":\n",
        "        scaler = StandardScaler()\n",
        "    elif scale_method == \"minmax\":\n",
        "        scaler = MinMaxScaler()\n",
        "    else:\n",
        "        raise ValueError(\"Invalid scale_method. Choose 'standard' or 'minmax'.\")\n",
        "\n",
        "    if existing_num_features:\n",
        "        df[existing_num_features] = scaler.fit_transform(df[existing_num_features])\n",
        "\n",
        "    return df\n",
        "\n",
        "\n",
        "\n"
      ],
      "metadata": {
        "id": "hgyvYgK8yGqu"
      },
      "execution_count": null,
      "outputs": []
    },
    {
      "cell_type": "code",
      "source": [
        "# Standard Scaled Dataset\n",
        "df_standard_scaled = preprocess_features(df.copy(), scale_method=\"standard\")\n",
        "\n",
        "# Min-Max Scaled Dataset\n",
        "df_minmax_scaled = preprocess_features(df.copy(), scale_method=\"minmax\")\n",
        "\n"
      ],
      "metadata": {
        "id": "UF-4Ry3tCcOe"
      },
      "execution_count": null,
      "outputs": []
    },
    {
      "cell_type": "markdown",
      "source": [
        "We split the two datasets (min-max dataset and standard dataset) using train_test_split()."
      ],
      "metadata": {
        "id": "piVi4HxZDNWW"
      }
    },
    {
      "cell_type": "code",
      "source": [
        "# Splitting Standard Scaled Data\n",
        "X_standard = df_standard_scaled.drop(columns=['mpg_cluster', 'mpg_kmeans'])\n",
        "y_manual_standard = df_standard_scaled['mpg_cluster']\n",
        "y_kmeans_standard = df_standard_scaled['mpg_kmeans']\n",
        "\n",
        "X_train_manual_std, X_test_manual_std, y_train_manual_std, y_test_manual_std = train_test_split(\n",
        "    X_standard, y_manual_standard, test_size=0.2, random_state=42, stratify=y_manual_standard\n",
        ")\n",
        "X_train_kmeans_std, X_test_kmeans_std, y_train_kmeans_std, y_test_kmeans_std = train_test_split(\n",
        "    X_standard, y_kmeans_standard, test_size=0.2, random_state=42, stratify=y_kmeans_standard\n",
        ")\n",
        "\n",
        "# Splitting MinMax Scaled Data\n",
        "X_minmax = df_minmax_scaled.drop(columns=['mpg_cluster', 'mpg_kmeans'])\n",
        "y_manual_minmax = df_minmax_scaled['mpg_cluster']\n",
        "y_kmeans_minmax = df_minmax_scaled['mpg_kmeans']\n",
        "\n",
        "X_train_manual_mm, X_test_manual_mm, y_train_manual_mm, y_test_manual_mm = train_test_split(\n",
        "    X_minmax, y_manual_minmax, test_size=0.2, random_state=42, stratify=y_manual_minmax\n",
        ")\n",
        "X_train_kmeans_mm, X_test_kmeans_mm, y_train_kmeans_mm, y_test_kmeans_mm = train_test_split(\n",
        "    X_minmax, y_kmeans_minmax, test_size=0.2, random_state=42, stratify=y_kmeans_minmax\n",
        ")\n"
      ],
      "metadata": {
        "id": "9OlGmDuUCg0Q"
      },
      "execution_count": null,
      "outputs": []
    }
  ]
}